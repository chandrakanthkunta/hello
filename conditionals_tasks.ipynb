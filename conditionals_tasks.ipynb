{
 "cells": [
  {
   "cell_type": "markdown",
   "id": "fdf2dfed",
   "metadata": {},
   "source": [
    "# Task 1: "
   ]
  },
  {
   "cell_type": "markdown",
   "id": "f64377e7",
   "metadata": {},
   "source": [
    "Write a Python program that asks the user for their age and prints \"You are an adult\" if the age is 18 or older, otherwise prints \"You are a minor'.\n"
   ]
  },
  {
   "cell_type": "code",
   "execution_count": 1,
   "id": "995a0c99",
   "metadata": {},
   "outputs": [
    {
     "name": "stdout",
     "output_type": "stream",
     "text": [
      "enter your age1\n",
      "you are minor\n"
     ]
    }
   ],
   "source": [
    "user = int(input(\"enter your age\")) # taking age from user\n",
    "\n",
    "if user >= 18 and : # condition of age should be greater than or equals to 18\n",
    "    print(\"you are an adult\") # if age is greater than 18 it print this statement\n",
    "elif user >100:\n",
    "    print(\"not valid\")\n",
    "elif user\n",
    "    print(\"you are minor\") # if age is below 18it prints this statement"
   ]
  },
  {
   "cell_type": "markdown",
   "id": "75003f73",
   "metadata": {},
   "source": [
    "# Task 2:"
   ]
  },
  {
   "cell_type": "markdown",
   "id": "d5456179",
   "metadata": {},
   "source": [
    "Write a program that takes a numerical grade (out of 100) as input and prints the corresponding letter grade according to the following scale:\n",
    "\n",
    "- 90-100: A\n",
    "- 80-89: B\n",
    "- 70-79: C\n",
    "- 60-69: D\n",
    "- Below 60: F\n"
   ]
  },
  {
   "cell_type": "code",
   "execution_count": 2,
   "id": "7ad93278",
   "metadata": {},
   "outputs": [
    {
     "name": "stdout",
     "output_type": "stream",
     "text": [
      "enter your grade: 66\n",
      "D\n"
     ]
    }
   ],
   "source": [
    "grade = int(input(\"enter your grade: \"))\n",
    "\n",
    "if grade > 90 and grade < 100: # taking condition to print \"A\" if marks between 90-100\n",
    "    print(\"A\")\n",
    "elif grade > 80 and grade < 89:# taking condition to print \"B\" if marks between 80-89\n",
    "    print(\"B\")\n",
    "elif grade > 70 and grade < 79:# taking condition to print \"C\" if marks between 70-79\n",
    "    print(\"C\")\n",
    "elif grade > 60 and grade < 69:# taking condition to print \"D\" if marks between 60-69\n",
    "    print(\"D\")\n",
    "elif grade < 60: # taking condition to print \"Fail\" if marks below 60\n",
    "    print(\"Fail\")\n"
   ]
  },
  {
   "cell_type": "markdown",
   "id": "8cc7736c",
   "metadata": {},
   "source": [
    "# Task : 3"
   ]
  },
  {
   "cell_type": "markdown",
   "id": "43635b46",
   "metadata": {},
   "source": [
    "Write a program that calculates the Body Mass Index (BMI) of a person. The user should input their weight in kilograms and height in meters. The program should then print whether the person is underweight, normal weight, overweight, or obese\n"
   ]
  },
  {
   "cell_type": "code",
   "execution_count": 3,
   "id": "0f16716a",
   "metadata": {},
   "outputs": [
    {
     "name": "stdout",
     "output_type": "stream",
     "text": [
      "enter height meter: 17.3\n",
      "enter mass in kg: 35\n",
      "under weight\n"
     ]
    }
   ],
   "source": [
    "height = float(input(\"enter height meter: \"))\n",
    "mass = int(input(\"enter mass in kg: \"))\n",
    "\n",
    "man = mass // height ** 2\n",
    "\n",
    "if man >= 18 and man <= 23:# if a man between 18-23 he is normal\n",
    "    print(\"normal weight\")\n",
    "\n",
    "elif man >= 24 and man <= 29:# if a man between 24-29 he is over weight\n",
    "    print(\"over weight\")\n",
    "    \n",
    "elif man >= 30:\n",
    "    print(\"obese\")# if a man over 30 he is obese\n",
    "elif man < 18:\n",
    "    print(\"under weight\")# if a man below 18 he is underweight\n",
    "    \n",
    "    \n"
   ]
  },
  {
   "cell_type": "markdown",
   "id": "232002a0",
   "metadata": {},
   "source": [
    "# Task: 4"
   ]
  },
  {
   "cell_type": "markdown",
   "id": "364980c1",
   "metadata": {},
   "source": [
    "Write a program that asks the user for three numbers and prints the maximum of the three."
   ]
  },
  {
   "cell_type": "code",
   "execution_count": 4,
   "id": "c6fddb91",
   "metadata": {},
   "outputs": [
    {
     "name": "stdout",
     "output_type": "stream",
     "text": [
      "enter any number1: 1\n",
      "enter any number2: 2\n",
      "enter any number3: 3\n",
      "3 is greater\n"
     ]
    }
   ],
   "source": [
    "num1 = int(input(\"enter any number1: \"))\n",
    "num2 = int(input(\"enter any number2: \"))\n",
    "num3 = int(input(\"enter any number3: \"))\n",
    "\n",
    "if num1 > num2:\n",
    "    print(num1, \"is greater\")#given condition that if num1 is greater than num2 to print num1\n",
    "elif num2 > num3:\n",
    "    print(num2, \"is greater\")#given condition that if num2 is greater than num3 to print num2\n",
    "elif num3 > num1:\n",
    "    print(num3, \"is greater\")#given condition that if num3 is greater than num1 to print num3"
   ]
  },
  {
   "cell_type": "markdown",
   "id": "b521a507",
   "metadata": {},
   "source": [
    "# Task:5"
   ]
  },
  {
   "cell_type": "markdown",
   "id": "7b7b5f1f",
   "metadata": {},
   "source": [
    "Write a program that asks the user for a temperature (in Celsius) and prints \"It's freezing\" if the temperature is below 0, \"It's cool\" if it's between 0 and 10, \"It's warm\" if it's between 10 and 20, and \"It's hot\" if it's above 20\n"
   ]
  },
  {
   "cell_type": "code",
   "execution_count": 5,
   "id": "99e002dd",
   "metadata": {},
   "outputs": [
    {
     "name": "stdout",
     "output_type": "stream",
     "text": [
      "enter temperature: 12\n",
      "warm\n"
     ]
    }
   ],
   "source": [
    "temp = int(input(\"enter temperature: \"))\n",
    "\n",
    "if temp < 0:# given a condition that if temperature is less than 0 to print freezing\n",
    "    print(\"frreezing\")\n",
    "elif temp >= 0 and temp < 10:#given a condition that if temperature is between  0 and 1, print cool\n",
    "    print(\"cool\")\n",
    "elif temp > 10 and temp <20:#given a condition that if temperature is between 10 and 20, print warm\n",
    "    print(\"warm\")\n",
    "elif temp >= 20:\n",
    "    print(\"it's hot\")#given a condition that if temperature is greater than 20 to print it's hot"
   ]
  },
  {
   "cell_type": "markdown",
   "id": "8977dae0",
   "metadata": {},
   "source": [
    "# Task:6"
   ]
  },
  {
   "cell_type": "markdown",
   "id": "26dd5d41",
   "metadata": {},
   "source": [
    "Write a program that asks the user for a number (1-7) and prints the corresponding day of the week."
   ]
  },
  {
   "cell_type": "code",
   "execution_count": 6,
   "id": "e1bc477b",
   "metadata": {},
   "outputs": [
    {
     "name": "stdout",
     "output_type": "stream",
     "text": [
      "enter number between 1 to 7: 1\n",
      "sunday\n"
     ]
    }
   ],
   "source": [
    "number = int(input(\"enter number between 1 to 7: \"))\n",
    "\n",
    "if number == 1:# condition is, if given number is equals to 1, print week sunday\n",
    "    print(\"sunday\")\n",
    "elif number == 2:# condition is, if given number is equals to 2, print week monday\n",
    "    print(\"monday\")\n",
    "elif number == 3:# condition is, if given number is equals to 3, print week tuesday\n",
    "    print(\"tuesday\")\n",
    "elif number == 4:# condition is, if given number is equals to 4, print week wednesday\n",
    "    print(\"wednesday\")\n",
    "elif number == 5:# condition is, if given number is equals to 5, print week thursday\n",
    "    print(\"thursday\")\n",
    "elif number == 6:# condition is, if given number is equals to 6, print week friday\n",
    "    print(\"friday\")\n",
    "elif number == 7:# condition is, if given number is equals to 7, print week saturday\n",
    "    print(\"saturday\")\n"
   ]
  },
  {
   "cell_type": "markdown",
   "id": "be604442",
   "metadata": {},
   "source": [
    "# Task:7"
   ]
  },
  {
   "cell_type": "markdown",
   "id": "27e4ac0c",
   "metadata": {},
   "source": [
    "Write a program that asks the user for a number and prints \"In range\" if the number is between 10 and 20 (inclusive), and \"Out of range\" otherwise.\n"
   ]
  },
  {
   "cell_type": "code",
   "execution_count": 13,
   "id": "e167efcd",
   "metadata": {},
   "outputs": [
    {
     "name": "stdout",
     "output_type": "stream",
     "text": [
      "enter a range 12\n",
      "inclusive\n"
     ]
    }
   ],
   "source": [
    "number = int(input(\"enter a range \"))\n",
    "\n",
    "if number >= 10 and number <= 20:#condition if number between 10-20 print inclusive otherwise out of range\n",
    "    print(\"inclusive\")\n",
    "else:\n",
    "    print(\"out of range\")\n"
   ]
  },
  {
   "cell_type": "markdown",
   "id": "adf0678c",
   "metadata": {},
   "source": [
    "# Task: 8"
   ]
  },
  {
   "cell_type": "markdown",
   "id": "4396ab01",
   "metadata": {},
   "source": [
    "Write a program that asks the user for an integer and prints whether it's even or odd.\n"
   ]
  },
  {
   "cell_type": "code",
   "execution_count": 16,
   "id": "8cf328f1",
   "metadata": {},
   "outputs": [
    {
     "name": "stdout",
     "output_type": "stream",
     "text": [
      "enter a number3\n",
      "odd\n"
     ]
    }
   ],
   "source": [
    "user = int(input(\"enter a number\"))\n",
    "\n",
    "if user%2 ==0:#even is when a number divisible by 2 is even if it not it's odd\n",
    "    print(\"even\")\n",
    "else:\n",
    "    print(\"odd\")\n"
   ]
  },
  {
   "cell_type": "markdown",
   "id": "1460dbeb",
   "metadata": {},
   "source": [
    "# Task: 9"
   ]
  },
  {
   "cell_type": "markdown",
   "id": "a4e22f84",
   "metadata": {},
   "source": [
    " Write a Python program to add 'ing' at the end of a given string (string length should be equal to or more than 3). If the given string already ends with 'ing' then add 'ly' instead.If the string length of the given string is less than 3, leave it unchanged\n"
   ]
  },
  {
   "cell_type": "code",
   "execution_count": 35,
   "id": "cb2f4b4f",
   "metadata": {},
   "outputs": [
    {
     "name": "stdout",
     "output_type": "stream",
     "text": [
      "enter a 3 letter string: ing\n",
      "inging\n",
      "ingly\n"
     ]
    }
   ],
   "source": [
    "string = input(\"enter a 3 letter string: \")#input\n",
    "\n",
    "if len(string) >= 3:# condition if length is more than 3 we can use print\n",
    "    print(string+\"ing\")\n",
    "if string.endswith(\"ing\"):#condition if there is already ing \"word \"it prints \"ly\"\n",
    "    print(string+\"ly\")"
   ]
  },
  {
   "cell_type": "markdown",
   "id": "dcb1a099",
   "metadata": {},
   "source": [
    "# Task: 10"
   ]
  },
  {
   "cell_type": "markdown",
   "id": "900b3b0d",
   "metadata": {},
   "source": [
    "Create rock-paper-scissors by using the if condition."
   ]
  },
  {
   "cell_type": "code",
   "execution_count": 50,
   "id": "0060ab0a",
   "metadata": {},
   "outputs": [
    {
     "name": "stdout",
     "output_type": "stream",
     "text": [
      "P1, choose: rock\n",
      "P2, choose: scissor\n",
      "P1 won!\n"
     ]
    }
   ],
   "source": [
    "p1 = input(\"P1, choose: \")\n",
    "p2 = input(\"P2, choose: \")\n",
    "\n",
    "#there are given some conditions to win the player 1 other wise palyer 2 wins.\n",
    "if (p1 == \"rock\" and p2 == \"scissor\") or (p1 == \"paper\" and p2 == \"rock\") or (p1 == \"scissor\" and p2 == \"paper\"):\n",
    "    print(\"P1 won!\")\n",
    "else:\n",
    "    print(\"P2 won!\")\n"
   ]
  },
  {
   "cell_type": "markdown",
   "id": "e51bc971",
   "metadata": {},
   "source": [
    "# Task: 11"
   ]
  },
  {
   "cell_type": "markdown",
   "id": "def9a79b",
   "metadata": {},
   "source": [
    "Create a dynamic calculator which asks for numbers and operator and return the answers,\n",
    "\n",
    "   - Example\n",
    "   - Input: Type first number: 10\",\n",
    "   - Type any of this (+, -, *, /, %, **): ,*\n",
    "   - Assignment-2 ,\n",
    "  - Type second number: 19,\n",
    "   - Output:Answer is 190\n"
   ]
  },
  {
   "cell_type": "code",
   "execution_count": 64,
   "id": "04f782fc",
   "metadata": {},
   "outputs": [
    {
     "name": "stdout",
     "output_type": "stream",
     "text": [
      "enter a number1: 1\n",
      "enter a number2: 2\n",
      "Type any of this (+, -, , /, %, **\n",
      "cal:+\n",
      "3\n"
     ]
    }
   ],
   "source": [
    "num1 = int(input(\"enter a number1: \"))\n",
    "num2 = int(input(\"enter a number2: \"))\n",
    "print(\"Type any of this (+, -, , /, %, **\")\n",
    "\n",
    "cal = input(\"cal:\")\n",
    "\n",
    "if cal == \"+\":\n",
    "    print(num1 + num2)\n",
    "elif cal == \"-\":\n",
    "    print(num1 - num2)\n",
    "elif cal == \"*\":\n",
    "    print(num1 * num2)\n",
    "elif cal == \"/\":\n",
    "    print(num1 / num2)\n",
    "elif cal == \"%\":\n",
    "    print(num1 % num2)\n",
    "elif cal == \"**\":\n",
    "    print(num1 ** num2)\n",
    "    \n",
    "\n",
    "\n"
   ]
  },
  {
   "cell_type": "markdown",
   "id": "b587b7cd",
   "metadata": {},
   "source": [
    "# Task: 12"
   ]
  },
  {
   "cell_type": "markdown",
   "id": "4039646a",
   "metadata": {},
   "source": [
    "Manoj Kumar has family and friends. Help him remind them who is who. Given a string with a name, return the relation of that person to Manoj Kumar.,\n",
    " Person Relation,\n",
    " Shiva father ,Letha mother, Tarun brother,Kavitha sister ,,Strange Coder.\n"
   ]
  },
  {
   "cell_type": "code",
   "execution_count": 5,
   "id": "5bf6f515",
   "metadata": {},
   "outputs": [
    {
     "name": "stdout",
     "output_type": "stream",
     "text": [
      "he is my: kavitha\n",
      "sister\n"
     ]
    }
   ],
   "source": [
    "who = input(\"he is my: \")\n",
    "\n",
    "shiva = \"father\"# declaring relations\n",
    "letha = \"mother\"\n",
    "tarun = \"brother\"\n",
    "kavitha = \"sister\"\n",
    "\n",
    "if who == \"shiva\":# checking the input with person name if this matches, we are assigning relation to it.\n",
    "    print(shiva)\n",
    "elif who == \"letha\":\n",
    "    print(letha)\n",
    "elif who == \"tarun\":\n",
    "    print(tarun)\n",
    "elif who == \"kavitha\":\n",
    "    print(kavitha)"
   ]
  },
  {
   "cell_type": "markdown",
   "id": "9bde2b39",
   "metadata": {},
   "source": [
    "# Task: 13"
   ]
  },
  {
   "cell_type": "markdown",
   "id": "d26425ce",
   "metadata": {},
   "source": [
    "Write a python program that takes in a word and determines whether or not it is plural. A plural word is one that ends with “s”\n"
   ]
  },
  {
   "cell_type": "code",
   "execution_count": 8,
   "id": "b10ebbb4",
   "metadata": {},
   "outputs": [
    {
     "name": "stdout",
     "output_type": "stream",
     "text": [
      "enter a word: send\n",
      "it is not plural\n"
     ]
    }
   ],
   "source": [
    "word = input(\"enter a word: \")#input\n",
    "\n",
    "if word.endswith(\"s\"):#endswith used for check the last letter of string\n",
    "    print(\"it is plural\")\n",
    "else:\n",
    "    print(\"it is not plural\")"
   ]
  },
  {
   "cell_type": "markdown",
   "id": "b6780a9b",
   "metadata": {},
   "source": [
    "# Task: 14"
   ]
  },
  {
   "cell_type": "markdown",
   "id": "4a2e4271",
   "metadata": {},
   "source": [
    "A company decided to give a bonus of 5% to employees if his/her year of service is more than 5 years.Ask user for their salary and year of service and print the net bonus amount.\n"
   ]
  },
  {
   "cell_type": "code",
   "execution_count": 11,
   "id": "b5dd33a9",
   "metadata": {},
   "outputs": [
    {
     "name": "stdout",
     "output_type": "stream",
     "text": [
      "Enter your salary: 10000\n",
      "Year of joining: 2021\n",
      "No bonus for this experience level.\n"
     ]
    }
   ],
   "source": [
    "salary = int(input(\"Enter your salary: \"))\n",
    "year = 2023\n",
    "syear = int(input(\"Year of joining: \"))#inputs\n",
    "exp = year - syear#calculating exp\n",
    "\n",
    "if exp == 5:\n",
    "    bonus = 0.05 * salary  # Calculate the bonus as 5% of the salary\n",
    "    new_salary = salary + bonus#total salary with bonus\n",
    "    print(\"Net bonus:\", bonus)\n",
    "    print(\"New salary:\", new_salary)\n",
    "else:\n",
    "    print(\"No bonus for this experience level.\")#ifthey hav'nt 5 years exp this will prompt\n"
   ]
  },
  {
   "cell_type": "markdown",
   "id": "323dcd6f",
   "metadata": {},
   "source": [
    "# Task: 15"
   ]
  },
  {
   "cell_type": "markdown",
   "id": "fc62c998",
   "metadata": {},
   "source": [
    "Take values of length and breadth of a rectangle from the user and check if it is square or not.\n"
   ]
  },
  {
   "cell_type": "code",
   "execution_count": 13,
   "id": "42b2b309",
   "metadata": {},
   "outputs": [
    {
     "name": "stdout",
     "output_type": "stream",
     "text": [
      "enter length: 2\n",
      "enter breadth: 3\n",
      "not square\n"
     ]
    }
   ],
   "source": [
    "length = int(input(\"enter length: \"))\n",
    "breadth = int(input(\"enter breadth: \"))\n",
    "\n",
    "if length == breadth: #squre formula is lxb, so chceking if they are equal or not.\n",
    "    print(\"square\")\n",
    "else:\n",
    "    print(\"not square\")"
   ]
  },
  {
   "cell_type": "markdown",
   "id": "d5713b9a",
   "metadata": {},
   "source": [
    "# Task: 16"
   ]
  },
  {
   "cell_type": "markdown",
   "id": "45ce43ac",
   "metadata": {},
   "source": [
    "Accept any city from the user and display the momentum of the city \n",
    "- Hyderabad  : “charminar”\n",
    "- “Delhi”         : “red fort\n",
    "- “Agra           : Taj mahal<br>\n",
    "If the city name is not given correctly, give him a warning message.\n"
   ]
  },
  {
   "cell_type": "code",
   "execution_count": 1,
   "id": "72941872",
   "metadata": {},
   "outputs": [
    {
     "name": "stdout",
     "output_type": "stream",
     "text": [
      "Enter a city: agra\n",
      "The monument in Agra is Taj Mahal.\n"
     ]
    }
   ],
   "source": [
    "# Creating a dictionary of city-monument mappings\n",
    "city_monuments = {\n",
    "    \"Hyderabad\": \"Charminar\",\n",
    "    \"Delhi\": \"Red Fort\",\n",
    "    \"Agra\": \"Taj Mahal\"\n",
    "}\n",
    "\n",
    "# Accept the city input from the user\n",
    "user_input = input(\"Enter a city: \")\n",
    "\n",
    "# Convert the user input to title case for case-insensitive matching\n",
    "city = user_input.title()\n",
    "\n",
    "# Check if the city exists in the dictionary\n",
    "if city in city_monuments:\n",
    "    monument = city_monuments[city]\n",
    "    print(f\"The monument in {city} is {monument}.\")\n",
    "else:\n",
    "    print(\"invalid msg\")\n"
   ]
  },
  {
   "cell_type": "markdown",
   "id": "1336ecc2",
   "metadata": {},
   "source": [
    "# Task:17"
   ]
  },
  {
   "cell_type": "markdown",
   "id": "99103177",
   "metadata": {},
   "source": [
    "Write a program to check whether a person is eligible for voting or not  (voting age>=18)."
   ]
  },
  {
   "cell_type": "code",
   "execution_count": 3,
   "id": "10f03b20",
   "metadata": {},
   "outputs": [
    {
     "name": "stdout",
     "output_type": "stream",
     "text": [
      "person age:99\n",
      "you are eligible\n"
     ]
    }
   ],
   "source": [
    "age = int(input(\"person age:\"))#input age\n",
    "\n",
    "if age >= 18:# choosing the age after 18 years are eligible\n",
    "    print(\"you are eligible\")\n",
    "else:\n",
    "    print(\"you are not eligible\")"
   ]
  },
  {
   "cell_type": "markdown",
   "id": "c7a68d76",
   "metadata": {},
   "source": [
    "# Task: 18"
   ]
  },
  {
   "cell_type": "markdown",
   "id": "ee763738",
   "metadata": {},
   "source": [
    "Accept three sides of the triangle and check whether the triangle is possible or not.(Triangle is possible only when the sum of any two sides is greater than 3 rd side)."
   ]
  },
  {
   "cell_type": "code",
   "execution_count": 4,
   "id": "98432d33",
   "metadata": {},
   "outputs": [
    {
     "name": "stdout",
     "output_type": "stream",
     "text": [
      "Enter the side1 : 3\n",
      "Enter the side2 : 4\n",
      "Enter the side3 : 5\n",
      "Triangle is formed\n"
     ]
    }
   ],
   "source": [
    "\n",
    "s1 = float(input(\"Enter the side1 : \"))#inputs\n",
    "s2 = float(input(\"Enter the side2 : \"))\n",
    "s3 = float(input(\"Enter the side3 : \"))\n",
    "\n",
    "# the sum of any two sides is greater than 3 rd side\n",
    "if s1 + s2 > s3 and s1 + s3 > s2 and s2 + s3 > s1:\n",
    "    print(\"Triangle is formed\")\n",
    "else:\n",
    "    print(\"not possible form\")\n"
   ]
  },
  {
   "cell_type": "code",
   "execution_count": null,
   "id": "588473e2",
   "metadata": {},
   "outputs": [],
   "source": []
  }
 ],
 "metadata": {
  "kernelspec": {
   "display_name": "Python 3 (ipykernel)",
   "language": "python",
   "name": "python3"
  },
  "language_info": {
   "codemirror_mode": {
    "name": "ipython",
    "version": 3
   },
   "file_extension": ".py",
   "mimetype": "text/x-python",
   "name": "python",
   "nbconvert_exporter": "python",
   "pygments_lexer": "ipython3",
   "version": "3.9.7"
  }
 },
 "nbformat": 4,
 "nbformat_minor": 5
}
