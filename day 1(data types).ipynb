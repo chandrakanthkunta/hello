{
 "cells": [
  {
   "cell_type": "markdown",
   "id": "9ed3e5aa",
   "metadata": {},
   "source": [
    "# Data types\n",
    "*int<br>\n",
    "*char<br>\n",
    "*hexa<br>\n",
    "*octa<br>\n",
    "*str<br>\n",
    "*complex<br>\n",
    "*Boolean<br>\n",
    "### Array<br>\n",
    "### Tuple<br>\n",
    "### list<br>\n",
    "### SETS<bR>\n",
    "    \n",
    "\n",
    "\n"
   ]
  },
  {
   "cell_type": "code",
   "execution_count": null,
   "id": "33ebea13",
   "metadata": {},
   "outputs": [],
   "source": []
  }
 ],
 "metadata": {
  "kernelspec": {
   "display_name": "Python 3 (ipykernel)",
   "language": "python",
   "name": "python3"
  },
  "language_info": {
   "codemirror_mode": {
    "name": "ipython",
    "version": 3
   },
   "file_extension": ".py",
   "mimetype": "text/x-python",
   "name": "python",
   "nbconvert_exporter": "python",
   "pygments_lexer": "ipython3",
   "version": "3.9.7"
  }
 },
 "nbformat": 4,
 "nbformat_minor": 5
}
